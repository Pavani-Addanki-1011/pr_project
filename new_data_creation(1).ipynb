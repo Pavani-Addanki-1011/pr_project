{
 "cells": [
  {
   "cell_type": "code",
   "execution_count": 1,
   "id": "97bbe9ee",
   "metadata": {},
   "outputs": [
    {
     "name": "stdout",
     "output_type": "stream",
     "text": [
      "Dataset saved as 'Comprehensive_Earthquake_Dataset.csv'\n"
     ]
    }
   ],
   "source": [
    "import pandas as pd\n",
    "import numpy as np\n",
    "from datetime import datetime, timedelta\n",
    "\n",
    "# Parameters\n",
    "num_rows = 1590\n",
    "start_date = datetime(2023, 1, 1)\n",
    "lat_base, lon_base = 34.05, -118.25  # Base for randomizing coordinates\n",
    "\n",
    "\n",
    "np.random.seed(42)\n",
    "data = {\n",
    "    \"Event ID\": np.arange(1, num_rows + 1),\n",
    "    \"Magnitude\": np.random.uniform(5.0, 8.0, num_rows).round(1),\n",
    "    \"Depth (km)\": np.random.randint(5, 30, num_rows),\n",
    "    \"Time of Occurrence\": [start_date + timedelta(days=int(x)) for x in np.random.randint(0, 365, num_rows)],\n",
    "    \"Latitude\": lat_base + np.random.uniform(-0.5, 0.5, num_rows),\n",
    "    \"Longitude\": lon_base + np.random.uniform(-0.5, 0.5, num_rows),\n",
    "    \"PGA (Peak Ground Acceleration)\": np.random.uniform(0.2, 0.8, num_rows).round(2),\n",
    "    \"EEWS Warning Time (s)\": np.random.randint(20, 60, num_rows),\n",
    "    \"EEWS False Alarm Rate\": np.random.uniform(0.01, 0.1, num_rows).round(2),\n",
    "    \"Cascading Event\": np.random.choice([\"Yes\", \"No\"], num_rows),\n",
    "    \"Cascading Event Type\": np.random.choice([\"Landslide\", \"Building Failure\", \"-\"], num_rows),\n",
    "    \"Building Failure Rate\": np.where(np.random.choice([\"Yes\", \"No\"], num_rows) == \"Yes\", np.random.uniform(0.1, 0.7, num_rows).round(2), np.nan),\n",
    "    \"Landslide Probability\": np.where(np.random.choice([\"Yes\", \"No\"], num_rows) == \"Yes\", np.random.uniform(0.1, 0.7, num_rows).round(2), np.nan),\n",
    "    \"Infrastructure Damage Cost (in USD)\": np.where(np.random.choice([\"Yes\", \"No\"], num_rows) == \"Yes\", np.random.randint(100000, 500000, num_rows), 0),\n",
    "    \"Fatalities\": np.random.poisson(5, num_rows)\n",
    "}\n",
    "\n",
    "# Create DataFrame\n",
    "df = pd.DataFrame(data)\n",
    "df.to_csv(\"Comprehensive_Earthquake_Dataset.csv\", index=False)\n",
    "print(\"Dataset saved as 'Comprehensive_Earthquake_Dataset.csv'\")\n"
   ]
  },
  {
   "cell_type": "code",
   "execution_count": null,
   "id": "d11c47ab",
   "metadata": {},
   "outputs": [],
   "source": []
  }
 ],
 "metadata": {
  "kernelspec": {
   "display_name": "Python 3 (ipykernel)",
   "language": "python",
   "name": "python3"
  },
  "language_info": {
   "codemirror_mode": {
    "name": "ipython",
    "version": 3
   },
   "file_extension": ".py",
   "mimetype": "text/x-python",
   "name": "python",
   "nbconvert_exporter": "python",
   "pygments_lexer": "ipython3",
   "version": "3.11.5"
  }
 },
 "nbformat": 4,
 "nbformat_minor": 5
}

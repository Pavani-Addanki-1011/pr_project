{
 "cells": [
  {
   "cell_type": "code",
   "execution_count": 7,
   "id": "865d3cc7",
   "metadata": {},
   "outputs": [],
   "source": [
    "# Import necessary libraries\n",
    "from pgmpy.models import BayesianNetwork\n",
    "from pgmpy.factors.discrete import TabularCPD\n",
    "import numpy as np\n",
    "from pgmpy.inference import VariableElimination"
   ]
  },
  {
   "cell_type": "code",
   "execution_count": 8,
   "id": "61c64591",
   "metadata": {},
   "outputs": [],
   "source": [
    "# Define the Bayesian Network structure\n",
    "# We assume that seismic factors like Magnitude, Depth, PGA, and EEWS factors influence Cascading Events\n",
    "model = BayesianNetwork([('Magnitude', 'Cascading Event'), \n",
    "                         ('Depth (km)', 'Cascading Event'), \n",
    "                         ('PGA (Peak Ground Acceleration)', 'Cascading Event'),\n",
    "                         ('EEWS Warning Time (s)', 'Cascading Event'), \n",
    "                         ('EEWS False Alarm Rate', 'Cascading Event')])"
   ]
  },
  {
   "cell_type": "code",
   "execution_count": 10,
   "id": "83e6ffd8",
   "metadata": {},
   "outputs": [],
   "source": [
    "# Define CPDs for Magnitude, Depth, PGA, EEWS Warning Time, EEWS False Alarm Rate\n",
    "cpd_magnitude = TabularCPD(variable='Magnitude', variable_card=3, \n",
    "                           values=[[0.2], [0.5], [0.3]])\n",
    "\n",
    "cpd_depth = TabularCPD(variable='Depth (km)', variable_card=3, \n",
    "                       values=[[0.3], [0.4], [0.3]])\n",
    "\n",
    "cpd_pga = TabularCPD(variable='PGA (Peak Ground Acceleration)', variable_card=3, \n",
    "                     values=[[0.25], [0.5], [0.25]])\n",
    "\n",
    "cpd_warning_time = TabularCPD(variable='EEWS Warning Time (s)', variable_card=3, \n",
    "                              values=[[0.3], [0.4], [0.3]])\n",
    "\n",
    "cpd_false_alarm = TabularCPD(variable='EEWS False Alarm Rate', variable_card=2, \n",
    "                             values=[[0.9], [0.1]])\n",
    "\n",
    "# CPD for Cascading Event: Need 162 columns (3*3*3*3*2)\n",
    "# Example probabilities (these would need to be derived from actual data or assumptions)\n",
    "prob_cascading_event_no = np.random.rand(162)  # Example probabilities for 'No' Cascading Event\n",
    "prob_cascading_event_yes = 1 - prob_cascading_event_no  # Complement for 'Yes' Cascading Event\n",
    "\n",
    "cpd_cascading_event = TabularCPD(variable='Cascading Event', variable_card=2, \n",
    "                                 values=[prob_cascading_event_no, prob_cascading_event_yes],\n",
    "                                 evidence=['Magnitude', 'Depth (km)', 'PGA (Peak Ground Acceleration)', \n",
    "                                           'EEWS Warning Time (s)', 'EEWS False Alarm Rate'], \n",
    "                                 evidence_card=[3, 3, 3, 3, 2])\n"
   ]
  },
  {
   "cell_type": "code",
   "execution_count": 11,
   "id": "2f7c9a4a",
   "metadata": {},
   "outputs": [],
   "source": [
    "# Define the Bayesian Network structure\n",
    "model = BayesianNetwork([('Magnitude', 'Cascading Event'), \n",
    "                         ('Depth (km)', 'Cascading Event'), \n",
    "                         ('PGA (Peak Ground Acceleration)', 'Cascading Event'),\n",
    "                         ('EEWS Warning Time (s)', 'Cascading Event'), \n",
    "                         ('EEWS False Alarm Rate', 'Cascading Event')])"
   ]
  },
  {
   "cell_type": "code",
   "execution_count": 12,
   "id": "8da63ff1",
   "metadata": {},
   "outputs": [],
   "source": [
    "# Add CPDs to the model\n",
    "model.add_cpds(cpd_magnitude, cpd_depth, cpd_pga, cpd_warning_time, cpd_false_alarm, cpd_cascading_event)"
   ]
  },
  {
   "cell_type": "code",
   "execution_count": 37,
   "id": "0b836364",
   "metadata": {},
   "outputs": [
    {
     "ename": "ValueError",
     "evalue": "No CPD associated with Cascading Event",
     "output_type": "error",
     "traceback": [
      "\u001b[1;31m---------------------------------------------------------------------------\u001b[0m",
      "\u001b[1;31mValueError\u001b[0m                                Traceback (most recent call last)",
      "Cell \u001b[1;32mIn[37], line 2\u001b[0m\n\u001b[0;32m      1\u001b[0m \u001b[38;5;66;03m# Check the model validity\u001b[39;00m\n\u001b[1;32m----> 2\u001b[0m \u001b[38;5;28;01massert\u001b[39;00m model\u001b[38;5;241m.\u001b[39mcheck_model()\n",
      "File \u001b[1;32m~\\anaconda3\\Lib\\site-packages\\pgmpy\\models\\BayesianNetwork.py:409\u001b[0m, in \u001b[0;36mBayesianNetwork.check_model\u001b[1;34m(self)\u001b[0m\n\u001b[0;32m    407\u001b[0m \u001b[38;5;66;03m# Check if a CPD is associated with every node.\u001b[39;00m\n\u001b[0;32m    408\u001b[0m \u001b[38;5;28;01mif\u001b[39;00m cpd \u001b[38;5;129;01mis\u001b[39;00m \u001b[38;5;28;01mNone\u001b[39;00m:\n\u001b[1;32m--> 409\u001b[0m     \u001b[38;5;28;01mraise\u001b[39;00m \u001b[38;5;167;01mValueError\u001b[39;00m(\u001b[38;5;124mf\u001b[39m\u001b[38;5;124m\"\u001b[39m\u001b[38;5;124mNo CPD associated with \u001b[39m\u001b[38;5;132;01m{\u001b[39;00mnode\u001b[38;5;132;01m}\u001b[39;00m\u001b[38;5;124m\"\u001b[39m)\n\u001b[0;32m    411\u001b[0m \u001b[38;5;66;03m# Check if the CPD is an instance of either TabularCPD or ContinuousFactor.\u001b[39;00m\n\u001b[0;32m    412\u001b[0m \u001b[38;5;28;01melif\u001b[39;00m \u001b[38;5;28misinstance\u001b[39m(cpd, (TabularCPD, ContinuousFactor)):\n",
      "\u001b[1;31mValueError\u001b[0m: No CPD associated with Cascading Event"
     ]
    }
   ],
   "source": [
    "# Check the model validity\n",
    "assert model.check_model()"
   ]
  },
  {
   "cell_type": "code",
   "execution_count": 38,
   "id": "b21dc28e",
   "metadata": {},
   "outputs": [
    {
     "ename": "ValueError",
     "evalue": "No CPD associated with Cascading Event",
     "output_type": "error",
     "traceback": [
      "\u001b[1;31m---------------------------------------------------------------------------\u001b[0m",
      "\u001b[1;31mValueError\u001b[0m                                Traceback (most recent call last)",
      "Cell \u001b[1;32mIn[38], line 2\u001b[0m\n\u001b[0;32m      1\u001b[0m \u001b[38;5;66;03m# Perform inference\u001b[39;00m\n\u001b[1;32m----> 2\u001b[0m inference \u001b[38;5;241m=\u001b[39m VariableElimination(model)\n",
      "File \u001b[1;32m~\\anaconda3\\Lib\\site-packages\\pgmpy\\inference\\base.py:68\u001b[0m, in \u001b[0;36mInference.__init__\u001b[1;34m(self, model)\u001b[0m\n\u001b[0;32m     66\u001b[0m \u001b[38;5;28;01mdef\u001b[39;00m \u001b[38;5;21m__init__\u001b[39m(\u001b[38;5;28mself\u001b[39m, model):\n\u001b[0;32m     67\u001b[0m     \u001b[38;5;28mself\u001b[39m\u001b[38;5;241m.\u001b[39mmodel \u001b[38;5;241m=\u001b[39m model\n\u001b[1;32m---> 68\u001b[0m     model\u001b[38;5;241m.\u001b[39mcheck_model()\n\u001b[0;32m     70\u001b[0m     \u001b[38;5;28;01mif\u001b[39;00m \u001b[38;5;28misinstance\u001b[39m(\u001b[38;5;28mself\u001b[39m\u001b[38;5;241m.\u001b[39mmodel, JunctionTree):\n\u001b[0;32m     71\u001b[0m         \u001b[38;5;28mself\u001b[39m\u001b[38;5;241m.\u001b[39mvariables \u001b[38;5;241m=\u001b[39m \u001b[38;5;28mset\u001b[39m(chain(\u001b[38;5;241m*\u001b[39m\u001b[38;5;28mself\u001b[39m\u001b[38;5;241m.\u001b[39mmodel\u001b[38;5;241m.\u001b[39mnodes()))\n",
      "File \u001b[1;32m~\\anaconda3\\Lib\\site-packages\\pgmpy\\models\\BayesianNetwork.py:409\u001b[0m, in \u001b[0;36mBayesianNetwork.check_model\u001b[1;34m(self)\u001b[0m\n\u001b[0;32m    407\u001b[0m \u001b[38;5;66;03m# Check if a CPD is associated with every node.\u001b[39;00m\n\u001b[0;32m    408\u001b[0m \u001b[38;5;28;01mif\u001b[39;00m cpd \u001b[38;5;129;01mis\u001b[39;00m \u001b[38;5;28;01mNone\u001b[39;00m:\n\u001b[1;32m--> 409\u001b[0m     \u001b[38;5;28;01mraise\u001b[39;00m \u001b[38;5;167;01mValueError\u001b[39;00m(\u001b[38;5;124mf\u001b[39m\u001b[38;5;124m\"\u001b[39m\u001b[38;5;124mNo CPD associated with \u001b[39m\u001b[38;5;132;01m{\u001b[39;00mnode\u001b[38;5;132;01m}\u001b[39;00m\u001b[38;5;124m\"\u001b[39m)\n\u001b[0;32m    411\u001b[0m \u001b[38;5;66;03m# Check if the CPD is an instance of either TabularCPD or ContinuousFactor.\u001b[39;00m\n\u001b[0;32m    412\u001b[0m \u001b[38;5;28;01melif\u001b[39;00m \u001b[38;5;28misinstance\u001b[39m(cpd, (TabularCPD, ContinuousFactor)):\n",
      "\u001b[1;31mValueError\u001b[0m: No CPD associated with Cascading Event"
     ]
    }
   ],
   "source": [
    "# Perform inference\n",
    "inference = VariableElimination(model)"
   ]
  },
  {
   "cell_type": "code",
   "execution_count": 39,
   "id": "5f18f079",
   "metadata": {},
   "outputs": [
    {
     "ename": "KeyError",
     "evalue": "2",
     "output_type": "error",
     "traceback": [
      "\u001b[1;31m---------------------------------------------------------------------------\u001b[0m",
      "\u001b[1;31mKeyError\u001b[0m                                  Traceback (most recent call last)",
      "Cell \u001b[1;32mIn[39], line 2\u001b[0m\n\u001b[0;32m      1\u001b[0m \u001b[38;5;66;03m# Query: Probability of Cascading Event given certain conditions\u001b[39;00m\n\u001b[1;32m----> 2\u001b[0m result \u001b[38;5;241m=\u001b[39m inference\u001b[38;5;241m.\u001b[39mquery(variables\u001b[38;5;241m=\u001b[39m[\u001b[38;5;124m'\u001b[39m\u001b[38;5;124mCascading Event\u001b[39m\u001b[38;5;124m'\u001b[39m], \n\u001b[0;32m      3\u001b[0m                          evidence\u001b[38;5;241m=\u001b[39m{\u001b[38;5;124m'\u001b[39m\u001b[38;5;124mMagnitude\u001b[39m\u001b[38;5;124m'\u001b[39m: \u001b[38;5;241m2\u001b[39m, \u001b[38;5;124m'\u001b[39m\u001b[38;5;124mDepth (km)\u001b[39m\u001b[38;5;124m'\u001b[39m: \u001b[38;5;241m1\u001b[39m, \u001b[38;5;124m'\u001b[39m\u001b[38;5;124mPGA (Peak Ground Acceleration)\u001b[39m\u001b[38;5;124m'\u001b[39m: \u001b[38;5;241m2\u001b[39m,\n\u001b[0;32m      4\u001b[0m                                    \u001b[38;5;124m'\u001b[39m\u001b[38;5;124mEEWS Warning Time (s)\u001b[39m\u001b[38;5;124m'\u001b[39m: \u001b[38;5;241m2\u001b[39m, \u001b[38;5;124m'\u001b[39m\u001b[38;5;124mEEWS False Alarm Rate\u001b[39m\u001b[38;5;124m'\u001b[39m: \u001b[38;5;241m1\u001b[39m})\n\u001b[0;32m      6\u001b[0m \u001b[38;5;28mprint\u001b[39m(result)\n",
      "File \u001b[1;32m~\\anaconda3\\Lib\\site-packages\\pgmpy\\inference\\ExactInference.py:339\u001b[0m, in \u001b[0;36mVariableElimination.query\u001b[1;34m(self, variables, evidence, virtual_evidence, elimination_order, joint, show_progress)\u001b[0m\n\u001b[0;32m    337\u001b[0m     indexer \u001b[38;5;241m=\u001b[39m [\u001b[38;5;28mslice\u001b[39m(\u001b[38;5;28;01mNone\u001b[39;00m)] \u001b[38;5;241m*\u001b[39m \u001b[38;5;28mlen\u001b[39m(phi\u001b[38;5;241m.\u001b[39mvariables)\n\u001b[0;32m    338\u001b[0m     \u001b[38;5;28;01mfor\u001b[39;00m index \u001b[38;5;129;01min\u001b[39;00m indexes_to_reduce:\n\u001b[1;32m--> 339\u001b[0m         indexer[index] \u001b[38;5;241m=\u001b[39m phi\u001b[38;5;241m.\u001b[39mget_state_no(\n\u001b[0;32m    340\u001b[0m             phi\u001b[38;5;241m.\u001b[39mvariables[index], evidence[phi\u001b[38;5;241m.\u001b[39mvariables[index]]\n\u001b[0;32m    341\u001b[0m         )\n\u001b[0;32m    342\u001b[0m     reduce_indexes\u001b[38;5;241m.\u001b[39mappend(\u001b[38;5;28mtuple\u001b[39m(indexer))\n\u001b[0;32m    344\u001b[0m \u001b[38;5;66;03m# Step 5.2: Prepare values and index arrays to do use in einsum\u001b[39;00m\n",
      "File \u001b[1;32m~\\anaconda3\\Lib\\site-packages\\pgmpy\\utils\\state_name.py:72\u001b[0m, in \u001b[0;36mStateNameMixin.get_state_no\u001b[1;34m(self, var, state_name)\u001b[0m\n\u001b[0;32m     68\u001b[0m \u001b[38;5;250m\u001b[39m\u001b[38;5;124;03m\"\"\"\u001b[39;00m\n\u001b[0;32m     69\u001b[0m \u001b[38;5;124;03mGiven `var` and `state_name` return the state number.\u001b[39;00m\n\u001b[0;32m     70\u001b[0m \u001b[38;5;124;03m\"\"\"\u001b[39;00m\n\u001b[0;32m     71\u001b[0m \u001b[38;5;28;01mif\u001b[39;00m \u001b[38;5;28mself\u001b[39m\u001b[38;5;241m.\u001b[39mstate_names:\n\u001b[1;32m---> 72\u001b[0m     \u001b[38;5;28;01mreturn\u001b[39;00m \u001b[38;5;28mself\u001b[39m\u001b[38;5;241m.\u001b[39mname_to_no[var][state_name]\n\u001b[0;32m     73\u001b[0m \u001b[38;5;28;01melse\u001b[39;00m:\n\u001b[0;32m     74\u001b[0m     \u001b[38;5;28;01mreturn\u001b[39;00m state_name\n",
      "\u001b[1;31mKeyError\u001b[0m: 2"
     ]
    }
   ],
   "source": [
    "# Query: Probability of Cascading Event given certain conditions\n",
    "result = inference.query(variables=['Cascading Event'], \n",
    "                         evidence={'Magnitude': 2, 'Depth (km)': 1, 'PGA (Peak Ground Acceleration)': 2,\n",
    "                                   'EEWS Warning Time (s)': 2, 'EEWS False Alarm Rate': 1})\n",
    "\n",
    "print(result)"
   ]
  },
  {
   "cell_type": "markdown",
   "id": "c59cd5a2",
   "metadata": {},
   "source": [
    "3. Integration with EEWS Data\n",
    "EEWS Performance Metrics: Integrate data from EEWS, such as warning time and false alarms, into the model. This will allow you to evaluate the system's effectiveness in reducing disaster impacts.\n",
    "Model Simulation: Use the ECDM-BDN model to simulate different earthquake scenarios. Assess how EEWS performance metrics influence the mitigation outcomes in these scenarios.\n"
   ]
  },
  {
   "cell_type": "code",
   "execution_count": 40,
   "id": "972a717d",
   "metadata": {},
   "outputs": [],
   "source": [
    "# Define Conditional Probability Distribution (CPD) for EEWS metrics\n",
    "cpd_warning_time = TabularCPD(variable='EEWS Warning Time (s)', variable_card=2, \n",
    "                              values=[[0.7, 0.3],   # Probability distribution for Warning Time\n",
    "                                      [0.3, 0.7]],\n",
    "                              evidence=['Cascading Event'], evidence_card=[2])\n",
    "\n",
    "cpd_false_alarm = TabularCPD(variable='EEWS False Alarm Rate', variable_card=2, \n",
    "                             values=[[0.9, 0.1],    # Probability distribution for False Alarm Rate\n",
    "                                     [0.5, 0.5]],\n",
    "                             evidence=['Cascading Event'], evidence_card=[2])"
   ]
  },
  {
   "cell_type": "code",
   "execution_count": 41,
   "id": "5be31145",
   "metadata": {},
   "outputs": [
    {
     "name": "stderr",
     "output_type": "stream",
     "text": [
      "WARNING:pgmpy:Replacing existing CPD for EEWS Warning Time (s)\n",
      "WARNING:pgmpy:Replacing existing CPD for EEWS False Alarm Rate\n"
     ]
    }
   ],
   "source": [
    "# Adding the CPDs to the model\n",
    "model.add_cpds(cpd_warning_time, cpd_false_alarm)"
   ]
  },
  {
   "cell_type": "code",
   "execution_count": 42,
   "id": "d9ce1d6e",
   "metadata": {
    "scrolled": true
   },
   "outputs": [],
   "source": [
    "# Function to simulate earthquake scenarios based on the model\n",
    "def simulate_earthquake_scenario(magnitude, pga, warning_time, false_alarm_rate):\n",
    "    # Set evidence for the scenario\n",
    "    evidence = {'Magnitude': magnitude, \n",
    "                'PGA (Peak Ground Acceleration)': pga, \n",
    "                'EEWS Warning Time (s)': warning_time, \n",
    "                'EEWS False Alarm Rate': false_alarm_rate}\n",
    "\n",
    "    # Perform inference to calculate the probability of cascading events\n",
    "    cascading_event_prob = infer.map_query(variables=['Cascading Event'], evidence=evidence)\n",
    "\n",
    "    return cascading_event_prob\n",
    "\n"
   ]
  },
  {
   "cell_type": "raw",
   "id": "f0ed0d12",
   "metadata": {},
   "source": [
    "# Define a function to simulate earthquake scenarios and compute risk\n",
    "def simulate_earthquake_scenario(magnitude, pga, warning_time, false_alarm_rate):\n",
    "    # Set evidence for the simulation\n",
    "    evidence = {'Magnitude': magnitude, \n",
    "                'PGA (Peak Ground Acceleration)': pga, \n",
    "                'EEWS Warning Time (s)': warning_time, \n",
    "                'EEWS False Alarm Rate': false_alarm_rate}"
   ]
  },
  {
   "cell_type": "raw",
   "id": "24b0522c",
   "metadata": {},
   "source": [
    "    # Perform inference to calculate the probability of cascading events\n",
    "    cascading_event_prob = infer.map_query(variables=['Cascading Event'], evidence=evidence)\n",
    "\n",
    "    return cascading_event_prob\n"
   ]
  },
  {
   "cell_type": "code",
   "execution_count": 43,
   "id": "b917a5b9",
   "metadata": {},
   "outputs": [],
   "source": [
    "# Define the Bayesian Network structure\n",
    "model = BayesianNetwork([('Magnitude', 'Cascading Event'),\n",
    "                         ('PGA (Peak Ground Acceleration)', 'Cascading Event'),\n",
    "                         ('EEWS Warning Time (s)', 'Cascading Event'),\n",
    "                         ('EEWS False Alarm Rate', 'Cascading Event')])\n"
   ]
  },
  {
   "cell_type": "code",
   "execution_count": 44,
   "id": "7e6db44b",
   "metadata": {},
   "outputs": [
    {
     "ename": "ValueError",
     "evalue": "('CPD defined on variable not in the model', <TabularCPD representing P(Cascading Event:2 | Magnitude:3, Depth (km):3, PGA (Peak Ground Acceleration):3, EEWS Warning Time (s):3, EEWS False Alarm Rate:2) at 0x16048ef4c50>)",
     "output_type": "error",
     "traceback": [
      "\u001b[1;31m---------------------------------------------------------------------------\u001b[0m",
      "\u001b[1;31mValueError\u001b[0m                                Traceback (most recent call last)",
      "Cell \u001b[1;32mIn[44], line 2\u001b[0m\n\u001b[0;32m      1\u001b[0m \u001b[38;5;66;03m# Adding CPDs to the model\u001b[39;00m\n\u001b[1;32m----> 2\u001b[0m model\u001b[38;5;241m.\u001b[39madd_cpds(cpd_magnitude, cpd_pga, cpd_warning_time, cpd_false_alarm, cpd_cascading_event)\n",
      "File \u001b[1;32m~\\anaconda3\\Lib\\site-packages\\pgmpy\\models\\BayesianNetwork.py:259\u001b[0m, in \u001b[0;36mBayesianNetwork.add_cpds\u001b[1;34m(self, *cpds)\u001b[0m\n\u001b[0;32m    256\u001b[0m     \u001b[38;5;28;01mraise\u001b[39;00m \u001b[38;5;167;01mValueError\u001b[39;00m(\u001b[38;5;124m\"\u001b[39m\u001b[38;5;124mOnly TabularCPD or ContinuousFactor can be added.\u001b[39m\u001b[38;5;124m\"\u001b[39m)\n\u001b[0;32m    258\u001b[0m \u001b[38;5;28;01mif\u001b[39;00m \u001b[38;5;28mset\u001b[39m(cpd\u001b[38;5;241m.\u001b[39mscope()) \u001b[38;5;241m-\u001b[39m \u001b[38;5;28mset\u001b[39m(cpd\u001b[38;5;241m.\u001b[39mscope())\u001b[38;5;241m.\u001b[39mintersection(\u001b[38;5;28mset\u001b[39m(\u001b[38;5;28mself\u001b[39m\u001b[38;5;241m.\u001b[39mnodes())):\n\u001b[1;32m--> 259\u001b[0m     \u001b[38;5;28;01mraise\u001b[39;00m \u001b[38;5;167;01mValueError\u001b[39;00m(\u001b[38;5;124m\"\u001b[39m\u001b[38;5;124mCPD defined on variable not in the model\u001b[39m\u001b[38;5;124m\"\u001b[39m, cpd)\n\u001b[0;32m    261\u001b[0m \u001b[38;5;28;01mfor\u001b[39;00m prev_cpd_index \u001b[38;5;129;01min\u001b[39;00m \u001b[38;5;28mrange\u001b[39m(\u001b[38;5;28mlen\u001b[39m(\u001b[38;5;28mself\u001b[39m\u001b[38;5;241m.\u001b[39mcpds)):\n\u001b[0;32m    262\u001b[0m     \u001b[38;5;28;01mif\u001b[39;00m \u001b[38;5;28mself\u001b[39m\u001b[38;5;241m.\u001b[39mcpds[prev_cpd_index]\u001b[38;5;241m.\u001b[39mvariable \u001b[38;5;241m==\u001b[39m cpd\u001b[38;5;241m.\u001b[39mvariable:\n",
      "\u001b[1;31mValueError\u001b[0m: ('CPD defined on variable not in the model', <TabularCPD representing P(Cascading Event:2 | Magnitude:3, Depth (km):3, PGA (Peak Ground Acceleration):3, EEWS Warning Time (s):3, EEWS False Alarm Rate:2) at 0x16048ef4c50>)"
     ]
    }
   ],
   "source": [
    "# Adding CPDs to the model\n",
    "model.add_cpds(cpd_magnitude, cpd_pga, cpd_warning_time, cpd_false_alarm, cpd_cascading_event)\n",
    "\n"
   ]
  },
  {
   "cell_type": "code",
   "execution_count": 45,
   "id": "4ccca065",
   "metadata": {},
   "outputs": [
    {
     "ename": "NameError",
     "evalue": "name 'infer' is not defined",
     "output_type": "error",
     "traceback": [
      "\u001b[1;31m---------------------------------------------------------------------------\u001b[0m",
      "\u001b[1;31mNameError\u001b[0m                                 Traceback (most recent call last)",
      "Cell \u001b[1;32mIn[45], line 2\u001b[0m\n\u001b[0;32m      1\u001b[0m \u001b[38;5;66;03m# Simulate for a particular scenario (e.g., Magnitude 7.2, PGA 0.38, Warning Time 48s, False Alarm Rate 0.03)\u001b[39;00m\n\u001b[1;32m----> 2\u001b[0m scenario \u001b[38;5;241m=\u001b[39m simulate_earthquake_scenario(\u001b[38;5;241m7.2\u001b[39m, \u001b[38;5;241m0.38\u001b[39m, \u001b[38;5;241m48\u001b[39m, \u001b[38;5;241m0.03\u001b[39m)\n\u001b[0;32m      3\u001b[0m \u001b[38;5;28mprint\u001b[39m(\u001b[38;5;124m\"\u001b[39m\u001b[38;5;124mProbability of Cascading Event:\u001b[39m\u001b[38;5;124m\"\u001b[39m, scenario)\n",
      "Cell \u001b[1;32mIn[42], line 10\u001b[0m, in \u001b[0;36msimulate_earthquake_scenario\u001b[1;34m(magnitude, pga, warning_time, false_alarm_rate)\u001b[0m\n\u001b[0;32m      4\u001b[0m evidence \u001b[38;5;241m=\u001b[39m {\u001b[38;5;124m'\u001b[39m\u001b[38;5;124mMagnitude\u001b[39m\u001b[38;5;124m'\u001b[39m: magnitude, \n\u001b[0;32m      5\u001b[0m             \u001b[38;5;124m'\u001b[39m\u001b[38;5;124mPGA (Peak Ground Acceleration)\u001b[39m\u001b[38;5;124m'\u001b[39m: pga, \n\u001b[0;32m      6\u001b[0m             \u001b[38;5;124m'\u001b[39m\u001b[38;5;124mEEWS Warning Time (s)\u001b[39m\u001b[38;5;124m'\u001b[39m: warning_time, \n\u001b[0;32m      7\u001b[0m             \u001b[38;5;124m'\u001b[39m\u001b[38;5;124mEEWS False Alarm Rate\u001b[39m\u001b[38;5;124m'\u001b[39m: false_alarm_rate}\n\u001b[0;32m      9\u001b[0m \u001b[38;5;66;03m# Perform inference to calculate the probability of cascading events\u001b[39;00m\n\u001b[1;32m---> 10\u001b[0m cascading_event_prob \u001b[38;5;241m=\u001b[39m infer\u001b[38;5;241m.\u001b[39mmap_query(variables\u001b[38;5;241m=\u001b[39m[\u001b[38;5;124m'\u001b[39m\u001b[38;5;124mCascading Event\u001b[39m\u001b[38;5;124m'\u001b[39m], evidence\u001b[38;5;241m=\u001b[39mevidence)\n\u001b[0;32m     12\u001b[0m \u001b[38;5;28;01mreturn\u001b[39;00m cascading_event_prob\n",
      "\u001b[1;31mNameError\u001b[0m: name 'infer' is not defined"
     ]
    }
   ],
   "source": [
    "# Simulate for a particular scenario (e.g., Magnitude 7.2, PGA 0.38, Warning Time 48s, False Alarm Rate 0.03)\n",
    "scenario = simulate_earthquake_scenario(7.2, 0.38, 48, 0.03)\n",
    "print(\"Probability of Cascading Event:\", scenario)\n"
   ]
  },
  {
   "cell_type": "code",
   "execution_count": 46,
   "id": "404c5b2d",
   "metadata": {},
   "outputs": [
    {
     "ename": "NameError",
     "evalue": "name 'infer' is not defined",
     "output_type": "error",
     "traceback": [
      "\u001b[1;31m---------------------------------------------------------------------------\u001b[0m",
      "\u001b[1;31mNameError\u001b[0m                                 Traceback (most recent call last)",
      "Cell \u001b[1;32mIn[46], line 9\u001b[0m\n\u001b[0;32m      2\u001b[0m scenarios \u001b[38;5;241m=\u001b[39m [\n\u001b[0;32m      3\u001b[0m     {\u001b[38;5;124m'\u001b[39m\u001b[38;5;124mMagnitude\u001b[39m\u001b[38;5;124m'\u001b[39m: \u001b[38;5;241m7.9\u001b[39m, \u001b[38;5;124m'\u001b[39m\u001b[38;5;124mPGA\u001b[39m\u001b[38;5;124m'\u001b[39m: \u001b[38;5;241m0.33\u001b[39m, \u001b[38;5;124m'\u001b[39m\u001b[38;5;124mWarning Time\u001b[39m\u001b[38;5;124m'\u001b[39m: \u001b[38;5;241m29\u001b[39m, \u001b[38;5;124m'\u001b[39m\u001b[38;5;124mFalse Alarm Rate\u001b[39m\u001b[38;5;124m'\u001b[39m: \u001b[38;5;241m0.04\u001b[39m},\n\u001b[0;32m      4\u001b[0m     {\u001b[38;5;124m'\u001b[39m\u001b[38;5;124mMagnitude\u001b[39m\u001b[38;5;124m'\u001b[39m: \u001b[38;5;241m6.1\u001b[39m, \u001b[38;5;124m'\u001b[39m\u001b[38;5;124mPGA\u001b[39m\u001b[38;5;124m'\u001b[39m: \u001b[38;5;241m0.32\u001b[39m, \u001b[38;5;124m'\u001b[39m\u001b[38;5;124mWarning Time\u001b[39m\u001b[38;5;124m'\u001b[39m: \u001b[38;5;241m35\u001b[39m, \u001b[38;5;124m'\u001b[39m\u001b[38;5;124mFalse Alarm Rate\u001b[39m\u001b[38;5;124m'\u001b[39m: \u001b[38;5;241m0.08\u001b[39m},\n\u001b[0;32m      5\u001b[0m     {\u001b[38;5;124m'\u001b[39m\u001b[38;5;124mMagnitude\u001b[39m\u001b[38;5;124m'\u001b[39m: \u001b[38;5;241m5.5\u001b[39m, \u001b[38;5;124m'\u001b[39m\u001b[38;5;124mPGA\u001b[39m\u001b[38;5;124m'\u001b[39m: \u001b[38;5;241m0.75\u001b[39m, \u001b[38;5;124m'\u001b[39m\u001b[38;5;124mWarning Time\u001b[39m\u001b[38;5;124m'\u001b[39m: \u001b[38;5;241m36\u001b[39m, \u001b[38;5;124m'\u001b[39m\u001b[38;5;124mFalse Alarm Rate\u001b[39m\u001b[38;5;124m'\u001b[39m: \u001b[38;5;241m0.05\u001b[39m}\n\u001b[0;32m      6\u001b[0m ]\n\u001b[0;32m      8\u001b[0m \u001b[38;5;28;01mfor\u001b[39;00m s \u001b[38;5;129;01min\u001b[39;00m scenarios:\n\u001b[1;32m----> 9\u001b[0m     result \u001b[38;5;241m=\u001b[39m simulate_earthquake_scenario(s[\u001b[38;5;124m'\u001b[39m\u001b[38;5;124mMagnitude\u001b[39m\u001b[38;5;124m'\u001b[39m], s[\u001b[38;5;124m'\u001b[39m\u001b[38;5;124mPGA\u001b[39m\u001b[38;5;124m'\u001b[39m], s[\u001b[38;5;124m'\u001b[39m\u001b[38;5;124mWarning Time\u001b[39m\u001b[38;5;124m'\u001b[39m], s[\u001b[38;5;124m'\u001b[39m\u001b[38;5;124mFalse Alarm Rate\u001b[39m\u001b[38;5;124m'\u001b[39m])\n\u001b[0;32m     10\u001b[0m     \u001b[38;5;28mprint\u001b[39m(\u001b[38;5;124mf\u001b[39m\u001b[38;5;124m\"\u001b[39m\u001b[38;5;124mScenario: Magnitude \u001b[39m\u001b[38;5;132;01m{\u001b[39;00ms[\u001b[38;5;124m'\u001b[39m\u001b[38;5;124mMagnitude\u001b[39m\u001b[38;5;124m'\u001b[39m]\u001b[38;5;132;01m}\u001b[39;00m\u001b[38;5;124m, Warning Time \u001b[39m\u001b[38;5;132;01m{\u001b[39;00ms[\u001b[38;5;124m'\u001b[39m\u001b[38;5;124mWarning Time\u001b[39m\u001b[38;5;124m'\u001b[39m]\u001b[38;5;132;01m}\u001b[39;00m\u001b[38;5;124ms, False Alarm Rate \u001b[39m\u001b[38;5;132;01m{\u001b[39;00ms[\u001b[38;5;124m'\u001b[39m\u001b[38;5;124mFalse Alarm Rate\u001b[39m\u001b[38;5;124m'\u001b[39m]\u001b[38;5;132;01m}\u001b[39;00m\u001b[38;5;124m\"\u001b[39m)\n\u001b[0;32m     11\u001b[0m     \u001b[38;5;28mprint\u001b[39m(\u001b[38;5;124m\"\u001b[39m\u001b[38;5;124mProbability of Cascading Event:\u001b[39m\u001b[38;5;124m\"\u001b[39m, result)\n",
      "Cell \u001b[1;32mIn[42], line 10\u001b[0m, in \u001b[0;36msimulate_earthquake_scenario\u001b[1;34m(magnitude, pga, warning_time, false_alarm_rate)\u001b[0m\n\u001b[0;32m      4\u001b[0m evidence \u001b[38;5;241m=\u001b[39m {\u001b[38;5;124m'\u001b[39m\u001b[38;5;124mMagnitude\u001b[39m\u001b[38;5;124m'\u001b[39m: magnitude, \n\u001b[0;32m      5\u001b[0m             \u001b[38;5;124m'\u001b[39m\u001b[38;5;124mPGA (Peak Ground Acceleration)\u001b[39m\u001b[38;5;124m'\u001b[39m: pga, \n\u001b[0;32m      6\u001b[0m             \u001b[38;5;124m'\u001b[39m\u001b[38;5;124mEEWS Warning Time (s)\u001b[39m\u001b[38;5;124m'\u001b[39m: warning_time, \n\u001b[0;32m      7\u001b[0m             \u001b[38;5;124m'\u001b[39m\u001b[38;5;124mEEWS False Alarm Rate\u001b[39m\u001b[38;5;124m'\u001b[39m: false_alarm_rate}\n\u001b[0;32m      9\u001b[0m \u001b[38;5;66;03m# Perform inference to calculate the probability of cascading events\u001b[39;00m\n\u001b[1;32m---> 10\u001b[0m cascading_event_prob \u001b[38;5;241m=\u001b[39m infer\u001b[38;5;241m.\u001b[39mmap_query(variables\u001b[38;5;241m=\u001b[39m[\u001b[38;5;124m'\u001b[39m\u001b[38;5;124mCascading Event\u001b[39m\u001b[38;5;124m'\u001b[39m], evidence\u001b[38;5;241m=\u001b[39mevidence)\n\u001b[0;32m     12\u001b[0m \u001b[38;5;28;01mreturn\u001b[39;00m cascading_event_prob\n",
      "\u001b[1;31mNameError\u001b[0m: name 'infer' is not defined"
     ]
    }
   ],
   "source": [
    "# Example: Iterate through multiple scenarios and assess EEWS performance\n",
    "scenarios = [\n",
    "    {'Magnitude': 7.9, 'PGA': 0.33, 'Warning Time': 29, 'False Alarm Rate': 0.04},\n",
    "    {'Magnitude': 6.1, 'PGA': 0.32, 'Warning Time': 35, 'False Alarm Rate': 0.08},\n",
    "    {'Magnitude': 5.5, 'PGA': 0.75, 'Warning Time': 36, 'False Alarm Rate': 0.05}\n",
    "]\n",
    "\n",
    "for s in scenarios:\n",
    "    result = simulate_earthquake_scenario(s['Magnitude'], s['PGA'], s['Warning Time'], s['False Alarm Rate'])\n",
    "    print(f\"Scenario: Magnitude {s['Magnitude']}, Warning Time {s['Warning Time']}s, False Alarm Rate {s['False Alarm Rate']}\")\n",
    "    print(\"Probability of Cascading Event:\", result)\n"
   ]
  },
  {
   "cell_type": "code",
   "execution_count": null,
   "id": "58eb4034",
   "metadata": {},
   "outputs": [],
   "source": []
  }
 ],
 "metadata": {
  "kernelspec": {
   "display_name": "Python 3 (ipykernel)",
   "language": "python",
   "name": "python3"
  },
  "language_info": {
   "codemirror_mode": {
    "name": "ipython",
    "version": 3
   },
   "file_extension": ".py",
   "mimetype": "text/x-python",
   "name": "python",
   "nbconvert_exporter": "python",
   "pygments_lexer": "ipython3",
   "version": "3.11.5"
  }
 },
 "nbformat": 4,
 "nbformat_minor": 5
}

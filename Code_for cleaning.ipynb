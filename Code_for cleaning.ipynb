{
 "cells": [
  {
   "cell_type": "code",
   "execution_count": 1,
   "id": "219cf3bb",
   "metadata": {},
   "outputs": [],
   "source": [
    "import pandas as pd\n",
    "import numpy as np\n",
    "\n",
    "# Load the dataset \n",
    "file_path = 'Comprehensive_Earthquake_Dataset.csv'  \n",
    "df = pd.read_csv(file_path)"
   ]
  },
  {
   "cell_type": "code",
   "execution_count": 2,
   "id": "f6d6ff31",
   "metadata": {},
   "outputs": [
    {
     "name": "stdout",
     "output_type": "stream",
     "text": [
      "   Event ID  Magnitude  Depth (km) Time of Occurrence   Latitude   Longitude  \\\n",
      "0         1        6.1          21         06-04-2023  33.996715 -118.345031   \n",
      "1         2        7.9          15         02-08-2023  34.051518 -117.751207   \n",
      "2         3        7.2          11         21-10-2023  33.796659 -118.695034   \n",
      "3         4        6.8          28         28-07-2023  34.020960 -118.171458   \n",
      "4         5        5.5          18         09-12-2023  34.211914 -118.667428   \n",
      "\n",
      "   PGA (Peak Ground Acceleration)  EEWS Warning Time (s)  \\\n",
      "0                            0.32                     35   \n",
      "1                            0.33                     29   \n",
      "2                            0.38                     48   \n",
      "3                            0.30                     25   \n",
      "4                            0.43                     48   \n",
      "\n",
      "   EEWS False Alarm Rate Cascading Event Cascading Event Type  \\\n",
      "0                   0.08             Yes            Landslide   \n",
      "1                   0.04              No                    -   \n",
      "2                   0.03              No     Building Failure   \n",
      "3                   0.05              No                    -   \n",
      "4                   0.08             Yes                    -   \n",
      "\n",
      "   Building Failure Rate  Landslide Probability  \\\n",
      "0                    NaN                   0.62   \n",
      "1                   0.14                    NaN   \n",
      "2                   0.15                   0.12   \n",
      "3                   0.49                    NaN   \n",
      "4                    NaN                   0.31   \n",
      "\n",
      "   Infrastructure Damage Cost (in USD)  Fatalities  \n",
      "0                               143322           4  \n",
      "1                                    0           4  \n",
      "2                               261661           4  \n",
      "3                               355919           1  \n",
      "4                                    0           8  \n"
     ]
    }
   ],
   "source": [
    "print(df.head())"
   ]
  },
  {
   "cell_type": "code",
   "execution_count": 3,
   "id": "c5345389",
   "metadata": {},
   "outputs": [],
   "source": [
    "df_cleaned = df.dropna()"
   ]
  },
  {
   "cell_type": "code",
   "execution_count": 4,
   "id": "6d8d5824",
   "metadata": {},
   "outputs": [],
   "source": [
    "df_cleaned = df_cleaned.drop_duplicates()"
   ]
  },
  {
   "cell_type": "code",
   "execution_count": 5,
   "id": "f42dfa67",
   "metadata": {},
   "outputs": [],
   "source": [
    "# Filling missing numerical values with 0 or using forward fill/backward fill depending on the context\n",
    "df['Building Failure Rate'] = df['Building Failure Rate'].fillna(0)\n",
    "df['Landslide Probability'] = df['Landslide Probability'].fillna(0)\n",
    "df['Infrastructure Damage Cost (in USD)'] = df['Infrastructure Damage Cost (in USD)'].fillna(0)\n",
    "df['Fatalities'] = df['Fatalities'].fillna(0)\n"
   ]
  },
  {
   "cell_type": "code",
   "execution_count": 6,
   "id": "64ff0d9d",
   "metadata": {},
   "outputs": [],
   "source": [
    "# If cascading event is 'No', 'Cascading Event Type' can be safely filled with 'None'\n",
    "df['Cascading Event Type'] = df['Cascading Event Type'].fillna('None')"
   ]
  },
  {
   "cell_type": "code",
   "execution_count": 7,
   "id": "7f975e4c",
   "metadata": {},
   "outputs": [],
   "source": [
    "# 2. Convert 'Time of Occurrence' to datetime format\n",
    "df['Time of Occurrence'] = pd.to_datetime(df['Time of Occurrence'], format='%d-%m-%Y')"
   ]
  },
  {
   "cell_type": "code",
   "execution_count": 8,
   "id": "dd928925",
   "metadata": {},
   "outputs": [],
   "source": [
    "# 3. Convert necessary columns to numeric (if they are not)\n",
    "df['Magnitude'] = pd.to_numeric(df['Magnitude'], errors='coerce')\n",
    "df['Depth (km)'] = pd.to_numeric(df['Depth (km)'], errors='coerce')\n",
    "df['PGA (Peak Ground Acceleration)'] = pd.to_numeric(df['PGA (Peak Ground Acceleration)'], errors='coerce')\n",
    "df['Latitude'] = pd.to_numeric(df['Latitude'], errors='coerce')\n",
    "df['Longitude'] = pd.to_numeric(df['Longitude'], errors='coerce')"
   ]
  },
  {
   "cell_type": "code",
   "execution_count": 9,
   "id": "23cdb25c",
   "metadata": {},
   "outputs": [],
   "source": [
    "# 4. Feature Engineering: Extract necessary columns for further analysis\n",
    "features = df[['Magnitude', 'PGA (Peak Ground Acceleration)', 'Depth (km)', 'Latitude', 'Longitude', 'Time of Occurrence']]"
   ]
  },
  {
   "cell_type": "code",
   "execution_count": 10,
   "id": "225841a4",
   "metadata": {},
   "outputs": [
    {
     "name": "stdout",
     "output_type": "stream",
     "text": [
      "\n",
      "Cleaned and Extracted Data:\n",
      "   Magnitude  PGA (Peak Ground Acceleration)  Depth (km)   Latitude  \\\n",
      "0        6.1                            0.32          21  33.996715   \n",
      "1        7.9                            0.33          15  34.051518   \n",
      "2        7.2                            0.38          11  33.796659   \n",
      "3        6.8                            0.30          28  34.020960   \n",
      "4        5.5                            0.43          18  34.211914   \n",
      "\n",
      "    Longitude Time of Occurrence  \n",
      "0 -118.345031         2023-04-06  \n",
      "1 -117.751207         2023-08-02  \n",
      "2 -118.695034         2023-10-21  \n",
      "3 -118.171458         2023-07-28  \n",
      "4 -118.667428         2023-12-09  \n"
     ]
    }
   ],
   "source": [
    "# Display the cleaned and processed data\n",
    "print(\"\\nCleaned and Extracted Data:\")\n",
    "print(features.head())\n"
   ]
  },
  {
   "cell_type": "code",
   "execution_count": 11,
   "id": "4b9669f3",
   "metadata": {},
   "outputs": [],
   "source": [
    "# Save the cleaned dataset to a new CSV \n",
    "features.to_csv('cleaned_earthquake_data.csv', index=False)"
   ]
  },
  {
   "cell_type": "code",
   "execution_count": 15,
   "id": "7defa502",
   "metadata": {},
   "outputs": [],
   "source": [
    "#features['Year'] = df['Time of Occurrence'].dt.year\n",
    "#features['Month'] = df['Time of Occurrence'].dt.month\n",
    "#features['Day'] = df['Time of Occurrence'].dt.day\n"
   ]
  },
  {
   "cell_type": "code",
   "execution_count": 16,
   "id": "6b779d28",
   "metadata": {},
   "outputs": [
    {
     "name": "stderr",
     "output_type": "stream",
     "text": [
      "C:\\Users\\USER\\AppData\\Local\\Temp\\ipykernel_14892\\2690472833.py:1: SettingWithCopyWarning: \n",
      "A value is trying to be set on a copy of a slice from a DataFrame.\n",
      "Try using .loc[row_indexer,col_indexer] = value instead\n",
      "\n",
      "See the caveats in the documentation: https://pandas.pydata.org/pandas-docs/stable/user_guide/indexing.html#returning-a-view-versus-a-copy\n",
      "  features['Log Building Failure Rate'] = np.log1p(df['Building Failure Rate'])\n"
     ]
    }
   ],
   "source": [
    "features['Log Building Failure Rate'] = np.log1p(df['Building Failure Rate'])\n"
   ]
  },
  {
   "cell_type": "code",
   "execution_count": 14,
   "id": "5670eb06",
   "metadata": {},
   "outputs": [],
   "source": [
    "# Save the cleaned dataset to a new CSV (optional)\n",
    "features.to_csv('cleaned.csv', index=False)"
   ]
  },
  {
   "cell_type": "code",
   "execution_count": null,
   "id": "69cbcabf",
   "metadata": {},
   "outputs": [],
   "source": []
  }
 ],
 "metadata": {
  "kernelspec": {
   "display_name": "Python 3 (ipykernel)",
   "language": "python",
   "name": "python3"
  },
  "language_info": {
   "codemirror_mode": {
    "name": "ipython",
    "version": 3
   },
   "file_extension": ".py",
   "mimetype": "text/x-python",
   "name": "python",
   "nbconvert_exporter": "python",
   "pygments_lexer": "ipython3",
   "version": "3.11.5"
  }
 },
 "nbformat": 4,
 "nbformat_minor": 5
}
